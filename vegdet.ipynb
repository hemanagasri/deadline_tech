{
 "cells": [
  {
   "cell_type": "code",
   "execution_count": 1,
   "id": "28a63498",
   "metadata": {},
   "outputs": [
    {
     "ename": "ModuleNotFoundError",
     "evalue": "No module named 'google.colab'",
     "output_type": "error",
     "traceback": [
      "\u001b[1;31m---------------------------------------------------------------------------\u001b[0m",
      "\u001b[1;31mModuleNotFoundError\u001b[0m                       Traceback (most recent call last)",
      "\u001b[1;32m~\\AppData\\Local\\Temp\\ipykernel_7576\\3530007517.py\u001b[0m in \u001b[0;36m<module>\u001b[1;34m\u001b[0m\n\u001b[1;32m----> 1\u001b[1;33m \u001b[1;32mfrom\u001b[0m \u001b[0mgoogle\u001b[0m\u001b[1;33m.\u001b[0m\u001b[0mcolab\u001b[0m \u001b[1;32mimport\u001b[0m \u001b[0mdrive\u001b[0m\u001b[1;33m\u001b[0m\u001b[1;33m\u001b[0m\u001b[0m\n\u001b[0m\u001b[0;32m      2\u001b[0m \u001b[0mdrive\u001b[0m\u001b[1;33m.\u001b[0m\u001b[0mmount\u001b[0m\u001b[1;33m(\u001b[0m\u001b[1;34m\"/content/gdrive\"\u001b[0m\u001b[1;33m)\u001b[0m\u001b[1;33m\u001b[0m\u001b[1;33m\u001b[0m\u001b[0m\n",
      "\u001b[1;31mModuleNotFoundError\u001b[0m: No module named 'google.colab'"
     ]
    }
   ],
   "source": []
  },
  {
   "cell_type": "code",
   "execution_count": 24,
   "id": "40117b56",
   "metadata": {},
   "outputs": [],
   "source": [
    "import numpy as np\n",
    "import pickle\n",
    "import cv2\n",
    "from os import listdir\n",
    "from sklearn.preprocessing import LabelBinarizer\n",
    "from keras.models import Sequential\n",
    "import tensorflow as tr\n",
    "from keras.layers import BatchNormalization\n",
    "from keras.layers.convolutional import Conv2D\n",
    "from keras.layers.convolutional import MaxPooling2D\n",
    "from keras.layers.core import Activation, Flatten, Dropout, Dense\n",
    "from keras import backend as K\n",
    "from keras.preprocessing.image import ImageDataGenerator\n",
    "from tensorflow.keras.optimizers import Adam\n",
    "from keras.preprocessing import image\n",
    "from tensorflow.keras.preprocessing.image import img_to_array\n",
    "from sklearn.preprocessing import MultiLabelBinarizer\n",
    "from sklearn.model_selection import train_test_split\n",
    "import matplotlib.pyplot as plt"
   ]
  },
  {
   "cell_type": "code",
   "execution_count": 25,
   "id": "5f9aa189",
   "metadata": {},
   "outputs": [
    {
     "name": "stdout",
     "output_type": "stream",
     "text": [
      "['Vegetable Images']\n"
     ]
    }
   ],
   "source": [
    "EPOCHS = 25\n",
    "INIT_LR = 1e-3\n",
    "BS = 32\n",
    "default_image_size = tuple((256, 256))\n",
    "image_size = 0\n",
    "directory_root = 'dataset/'\n",
    "width=256\n",
    "height=256\n",
    "depth=3\n",
    "print(listdir(directory_root))"
   ]
  },
  {
   "cell_type": "code",
   "execution_count": 26,
   "id": "492341c6",
   "metadata": {},
   "outputs": [],
   "source": [
    "def convert_image_to_array(image_dir):\n",
    "    try:\n",
    "        image = cv2.imread(image_dir)\n",
    "        if image is not None :\n",
    "            image = cv2.resize(image, default_image_size)   \n",
    "            return img_to_array(image)\n",
    "        else :\n",
    "            return np.array([])\n",
    "    except Exception as e:\n",
    "        print(f\"Error : {e}\")\n",
    "        return None"
   ]
  },
  {
   "cell_type": "code",
   "execution_count": 27,
   "id": "2d94900d",
   "metadata": {},
   "outputs": [
    {
     "name": "stdout",
     "output_type": "stream",
     "text": [
      "[INFO] Loading images ...\n",
      "[INFO] Processing Bean ...\n",
      "[INFO] Processing Bitter_Gourd ...\n",
      "[INFO] Processing Bottle_Gourd ...\n",
      "[INFO] Processing Brinjal ...\n",
      "[INFO] Processing Broccoli ...\n",
      "[INFO] Processing Cabbage ...\n",
      "[INFO] Processing Capsicum ...\n",
      "[INFO] Processing Carrot ...\n",
      "[INFO] Processing Cauliflower ...\n",
      "[INFO] Processing Cucumber ...\n",
      "[INFO] Processing Papaya ...\n",
      "[INFO] Processing Potato ...\n",
      "[INFO] Processing Pumpkin ...\n",
      "[INFO] Processing Radish ...\n",
      "[INFO] Processing Tomato ...\n",
      "[INFO] Image loading completed\n"
     ]
    }
   ],
   "source": [
    "image_list, label_list = [], []\n",
    "try:\n",
    "    print(\"[INFO] Loading images ...\")\n",
    "    root_dir = listdir(directory_root)\n",
    "    \n",
    "    for directory in root_dir :\n",
    "        # remove .DS_Store from list\n",
    "        if directory == \".DS_Store\" :\n",
    "            root_dir.remove(directory)\n",
    "\n",
    "    for veggie_folder in root_dir :\n",
    "        temp_list = listdir(f\"{directory_root}/{veggie_folder}\")\n",
    "        \n",
    "        for element in temp_list :\n",
    "            # remove .DS_Store from list\n",
    "            if element == \".DS_Store\" :\n",
    "                temp_list.remove(element)\n",
    "\n",
    "        for temp in temp_list:\n",
    "            print(f\"[INFO] Processing {temp} ...\")\n",
    "            veggie_image_list = listdir(f\"{directory_root}{veggie_folder}/{temp}/\")  #/{veggie_folder}\n",
    "               \n",
    "            for single_veggie_image in veggie_image_list :\n",
    "                if single_veggie_image == \".DS_Store\" :\n",
    "                    veggie_image_list.remove(single_veggie_image)\n",
    "\n",
    "            for image in veggie_image_list[:200]:\n",
    "                image_directory = f\"{directory_root}/{veggie_folder}/{temp}/{image}\"\n",
    "                if image_directory.endswith(\".jpg\") == True or image_directory.endswith(\".JPG\") == True:\n",
    "                    image_list.append(convert_image_to_array(image_directory))\n",
    "                    label_list.append(temp)\n",
    "    print(\"[INFO] Image loading completed\")  \n",
    "except Exception as e:\n",
    "    print(f\"Error : {e}\")"
   ]
  },
  {
   "cell_type": "code",
   "execution_count": 28,
   "id": "5333c4cb",
   "metadata": {},
   "outputs": [],
   "source": [
    "image_size = len(image_list)"
   ]
  },
  {
   "cell_type": "code",
   "execution_count": 29,
   "id": "82fbc4ec",
   "metadata": {},
   "outputs": [],
   "source": [
    "label_binarizer = LabelBinarizer()\n",
    "image_labels = label_binarizer.fit_transform(label_list)\n",
    "pickle.dump(label_binarizer,open('label_transform.pkl', 'wb'))\n",
    "n_classes = len(label_binarizer.classes_)"
   ]
  },
  {
   "cell_type": "code",
   "execution_count": 30,
   "id": "3a68b0b7",
   "metadata": {},
   "outputs": [
    {
     "name": "stdout",
     "output_type": "stream",
     "text": [
      "['Bean' 'Bitter_Gourd' 'Bottle_Gourd' 'Brinjal' 'Broccoli' 'Cabbage'\n",
      " 'Capsicum' 'Carrot' 'Cauliflower' 'Cucumber' 'Papaya' 'Potato' 'Pumpkin'\n",
      " 'Radish' 'Tomato']\n"
     ]
    }
   ],
   "source": [
    "print(label_binarizer.classes_)"
   ]
  },
  {
   "cell_type": "code",
   "execution_count": 31,
   "id": "9daf3b45",
   "metadata": {},
   "outputs": [],
   "source": [
    "np_image_list = np.array(image_list, dtype=np.float16) / 225.0"
   ]
  },
  {
   "cell_type": "code",
   "execution_count": 32,
   "id": "4491140e",
   "metadata": {},
   "outputs": [
    {
     "name": "stdout",
     "output_type": "stream",
     "text": [
      "[INFO] Spliting data to train, test\n"
     ]
    }
   ],
   "source": [
    "print(\"[INFO] Spliting data to train, test\")\n",
    "x_train, x_test, y_train, y_test = train_test_split(np_image_list, image_labels, test_size=0.2, random_state = 42) "
   ]
  },
  {
   "cell_type": "code",
   "execution_count": 33,
   "id": "0f66fe44",
   "metadata": {},
   "outputs": [],
   "source": [
    "aug = ImageDataGenerator(\n",
    "    rotation_range=25, width_shift_range=0.1,\n",
    "    height_shift_range=0.1, shear_range=0.2, \n",
    "    zoom_range=0.2,horizontal_flip=True, \n",
    "    fill_mode=\"nearest\")"
   ]
  },
  {
   "cell_type": "code",
   "execution_count": 34,
   "id": "5eee1098",
   "metadata": {},
   "outputs": [],
   "source": [
    "model = Sequential()\n",
    "inputShape = (height, width, depth)\n",
    "chanDim = -1\n",
    "if K.image_data_format() == \"channels_first\":\n",
    "    inputShape = (depth, height, width)\n",
    "    chanDim = 1\n",
    "model.add(Conv2D(32, (3, 3), padding=\"same\",input_shape=inputShape))\n",
    "model.add(Activation(\"relu\"))\n",
    "model.add(BatchNormalization(axis=chanDim))\n",
    "model.add(MaxPooling2D(pool_size=(3, 3)))\n",
    "model.add(Dropout(0.25))\n",
    "model.add(Conv2D(64, (3, 3), padding=\"same\"))\n",
    "model.add(Activation(\"relu\"))\n",
    "model.add(BatchNormalization(axis=chanDim))\n",
    "model.add(Conv2D(64, (3, 3), padding=\"same\"))\n",
    "model.add(Activation(\"relu\"))\n",
    "model.add(BatchNormalization(axis=chanDim))\n",
    "model.add(MaxPooling2D(pool_size=(2, 2)))\n",
    "model.add(Dropout(0.25))\n",
    "model.add(Conv2D(128, (3, 3), padding=\"same\"))\n",
    "model.add(Activation(\"relu\"))\n",
    "model.add(BatchNormalization(axis=chanDim))\n",
    "model.add(Conv2D(128, (3, 3), padding=\"same\"))\n",
    "model.add(Activation(\"relu\"))\n",
    "model.add(BatchNormalization(axis=chanDim))\n",
    "model.add(MaxPooling2D(pool_size=(2, 2)))\n",
    "model.add(Dropout(0.25))\n",
    "model.add(Flatten())\n",
    "model.add(Dense(1024))\n",
    "model.add(Activation(\"relu\"))\n",
    "model.add(BatchNormalization())\n",
    "model.add(Dropout(0.5))\n",
    "model.add(Dense(n_classes))\n",
    "model.add(Activation(\"softmax\"))"
   ]
  },
  {
   "cell_type": "code",
   "execution_count": 35,
   "id": "0ffdd05f",
   "metadata": {},
   "outputs": [
    {
     "name": "stdout",
     "output_type": "stream",
     "text": [
      "Model: \"sequential_1\"\n",
      "_________________________________________________________________\n",
      " Layer (type)                Output Shape              Param #   \n",
      "=================================================================\n",
      " conv2d_5 (Conv2D)           (None, 256, 256, 32)      896       \n",
      "                                                                 \n",
      " activation_7 (Activation)   (None, 256, 256, 32)      0         \n",
      "                                                                 \n",
      " batch_normalization_6 (Batc  (None, 256, 256, 32)     128       \n",
      " hNormalization)                                                 \n",
      "                                                                 \n",
      " max_pooling2d_3 (MaxPooling  (None, 85, 85, 32)       0         \n",
      " 2D)                                                             \n",
      "                                                                 \n",
      " dropout_4 (Dropout)         (None, 85, 85, 32)        0         \n",
      "                                                                 \n",
      " conv2d_6 (Conv2D)           (None, 85, 85, 64)        18496     \n",
      "                                                                 \n",
      " activation_8 (Activation)   (None, 85, 85, 64)        0         \n",
      "                                                                 \n",
      " batch_normalization_7 (Batc  (None, 85, 85, 64)       256       \n",
      " hNormalization)                                                 \n",
      "                                                                 \n",
      " conv2d_7 (Conv2D)           (None, 85, 85, 64)        36928     \n",
      "                                                                 \n",
      " activation_9 (Activation)   (None, 85, 85, 64)        0         \n",
      "                                                                 \n",
      " batch_normalization_8 (Batc  (None, 85, 85, 64)       256       \n",
      " hNormalization)                                                 \n",
      "                                                                 \n",
      " max_pooling2d_4 (MaxPooling  (None, 42, 42, 64)       0         \n",
      " 2D)                                                             \n",
      "                                                                 \n",
      " dropout_5 (Dropout)         (None, 42, 42, 64)        0         \n",
      "                                                                 \n",
      " conv2d_8 (Conv2D)           (None, 42, 42, 128)       73856     \n",
      "                                                                 \n",
      " activation_10 (Activation)  (None, 42, 42, 128)       0         \n",
      "                                                                 \n",
      " batch_normalization_9 (Batc  (None, 42, 42, 128)      512       \n",
      " hNormalization)                                                 \n",
      "                                                                 \n",
      " conv2d_9 (Conv2D)           (None, 42, 42, 128)       147584    \n",
      "                                                                 \n",
      " activation_11 (Activation)  (None, 42, 42, 128)       0         \n",
      "                                                                 \n",
      " batch_normalization_10 (Bat  (None, 42, 42, 128)      512       \n",
      " chNormalization)                                                \n",
      "                                                                 \n",
      " max_pooling2d_5 (MaxPooling  (None, 21, 21, 128)      0         \n",
      " 2D)                                                             \n",
      "                                                                 \n",
      " dropout_6 (Dropout)         (None, 21, 21, 128)       0         \n",
      "                                                                 \n",
      " flatten_1 (Flatten)         (None, 56448)             0         \n",
      "                                                                 \n",
      " dense_2 (Dense)             (None, 1024)              57803776  \n",
      "                                                                 \n",
      " activation_12 (Activation)  (None, 1024)              0         \n",
      "                                                                 \n",
      " batch_normalization_11 (Bat  (None, 1024)             4096      \n",
      " chNormalization)                                                \n",
      "                                                                 \n",
      " dropout_7 (Dropout)         (None, 1024)              0         \n",
      "                                                                 \n",
      " dense_3 (Dense)             (None, 15)                15375     \n",
      "                                                                 \n",
      " activation_13 (Activation)  (None, 15)                0         \n",
      "                                                                 \n",
      "=================================================================\n",
      "Total params: 58,102,671\n",
      "Trainable params: 58,099,791\n",
      "Non-trainable params: 2,880\n",
      "_________________________________________________________________\n"
     ]
    }
   ],
   "source": [
    "model.summary()"
   ]
  },
  {
   "cell_type": "code",
   "execution_count": 36,
   "id": "572d097f",
   "metadata": {},
   "outputs": [
    {
     "name": "stdout",
     "output_type": "stream",
     "text": [
      "[INFO] training network...\n"
     ]
    },
    {
     "name": "stderr",
     "output_type": "stream",
     "text": [
      "C:\\Users\\hp\\anaconda3\\lib\\site-packages\\keras\\optimizers\\optimizer_v2\\adam.py:117: UserWarning: The `lr` argument is deprecated, use `learning_rate` instead.\n",
      "  super().__init__(name, **kwargs)\n"
     ]
    }
   ],
   "source": [
    "opt = tr.keras.optimizers.legacy.Adam(lr=INIT_LR, decay=INIT_LR / EPOCHS)\n",
    "# distribution\n",
    "model.compile(loss=\"binary_crossentropy\", optimizer=opt,metrics=[\"accuracy\"])\n",
    "# train the network\n",
    "print(\"[INFO] training network...\")"
   ]
  },
  {
   "cell_type": "code",
   "execution_count": 37,
   "id": "6c6704ef",
   "metadata": {},
   "outputs": [
    {
     "name": "stdout",
     "output_type": "stream",
     "text": [
      "Epoch 1/25\n",
      "75/75 [==============================] - 414s 5s/step - loss: 0.6523 - accuracy: 0.2342 - val_loss: 0.6970 - val_accuracy: 0.0850\n",
      "Epoch 2/25\n",
      "75/75 [==============================] - 332s 4s/step - loss: 0.2994 - accuracy: 0.3142 - val_loss: 0.3262 - val_accuracy: 0.0933\n",
      "Epoch 3/25\n",
      "75/75 [==============================] - 331s 4s/step - loss: 0.2044 - accuracy: 0.4650 - val_loss: 0.3629 - val_accuracy: 0.0767\n",
      "Epoch 4/25\n",
      "75/75 [==============================] - 4519s 61s/step - loss: 0.1521 - accuracy: 0.6250 - val_loss: 0.3051 - val_accuracy: 0.1750\n",
      "Epoch 5/25\n",
      "75/75 [==============================] - 329s 4s/step - loss: 0.1205 - accuracy: 0.7262 - val_loss: 0.2781 - val_accuracy: 0.2750\n",
      "Epoch 6/25\n",
      "75/75 [==============================] - 330s 4s/step - loss: 0.1057 - accuracy: 0.7550 - val_loss: 0.2526 - val_accuracy: 0.3633\n",
      "Epoch 7/25\n",
      "75/75 [==============================] - 332s 4s/step - loss: 0.0973 - accuracy: 0.7804 - val_loss: 0.1777 - val_accuracy: 0.5150\n",
      "Epoch 8/25\n",
      "75/75 [==============================] - 330s 4s/step - loss: 0.0831 - accuracy: 0.8271 - val_loss: 0.1461 - val_accuracy: 0.6150\n",
      "Epoch 9/25\n",
      "75/75 [==============================] - 325s 4s/step - loss: 0.0734 - accuracy: 0.8413 - val_loss: 0.1295 - val_accuracy: 0.6683\n",
      "Epoch 10/25\n",
      "75/75 [==============================] - 328s 4s/step - loss: 0.0646 - accuracy: 0.8708 - val_loss: 0.0683 - val_accuracy: 0.8200\n",
      "Epoch 11/25\n",
      "75/75 [==============================] - 328s 4s/step - loss: 0.0603 - accuracy: 0.8779 - val_loss: 0.0596 - val_accuracy: 0.8567\n",
      "Epoch 12/25\n",
      "75/75 [==============================] - 291s 4s/step - loss: 0.0580 - accuracy: 0.8792 - val_loss: 0.1247 - val_accuracy: 0.6850\n",
      "Epoch 13/25\n",
      "75/75 [==============================] - 272s 4s/step - loss: 0.0547 - accuracy: 0.8867 - val_loss: 0.0996 - val_accuracy: 0.7817\n",
      "Epoch 14/25\n",
      "75/75 [==============================] - 272s 4s/step - loss: 0.0498 - accuracy: 0.9029 - val_loss: 0.0568 - val_accuracy: 0.8800\n",
      "Epoch 15/25\n",
      "75/75 [==============================] - 275s 4s/step - loss: 0.0519 - accuracy: 0.8954 - val_loss: 0.0939 - val_accuracy: 0.7900\n",
      "Epoch 16/25\n",
      "75/75 [==============================] - 277s 4s/step - loss: 0.0511 - accuracy: 0.9008 - val_loss: 0.1389 - val_accuracy: 0.6800\n",
      "Epoch 17/25\n",
      "75/75 [==============================] - 269s 4s/step - loss: 0.0389 - accuracy: 0.9262 - val_loss: 0.3823 - val_accuracy: 0.3517\n",
      "Epoch 18/25\n",
      "75/75 [==============================] - 269s 4s/step - loss: 0.0386 - accuracy: 0.9304 - val_loss: 0.0791 - val_accuracy: 0.8033\n",
      "Epoch 19/25\n",
      "75/75 [==============================] - 273s 4s/step - loss: 0.0332 - accuracy: 0.9425 - val_loss: 0.0638 - val_accuracy: 0.8417\n",
      "Epoch 20/25\n",
      "75/75 [==============================] - 270s 4s/step - loss: 0.0329 - accuracy: 0.9358 - val_loss: 0.1125 - val_accuracy: 0.7533\n",
      "Epoch 21/25\n",
      "75/75 [==============================] - 268s 4s/step - loss: 0.0306 - accuracy: 0.9525 - val_loss: 0.1180 - val_accuracy: 0.7133\n",
      "Epoch 22/25\n",
      "75/75 [==============================] - 268s 4s/step - loss: 0.0326 - accuracy: 0.9421 - val_loss: 0.0496 - val_accuracy: 0.8950\n",
      "Epoch 23/25\n",
      "75/75 [==============================] - 293s 4s/step - loss: 0.0264 - accuracy: 0.9533 - val_loss: 0.4864 - val_accuracy: 0.3533\n",
      "Epoch 24/25\n",
      "75/75 [==============================] - 329s 4s/step - loss: 0.0256 - accuracy: 0.9596 - val_loss: 0.0263 - val_accuracy: 0.9450\n",
      "Epoch 25/25\n",
      "75/75 [==============================] - 327s 4s/step - loss: 0.0259 - accuracy: 0.9513 - val_loss: 0.0736 - val_accuracy: 0.8433\n"
     ]
    }
   ],
   "source": [
    "history = model.fit(\n",
    "    aug.flow(x_train, y_train, batch_size=BS),\n",
    "    validation_data=(x_test, y_test),\n",
    "    steps_per_epoch=len(x_train) // BS,\n",
    "    epochs=EPOCHS, verbose=1\n",
    "    )"
   ]
  },
  {
   "cell_type": "code",
   "execution_count": 38,
   "id": "ee501979",
   "metadata": {},
   "outputs": [
    {
     "data": {
      "image/png": "[encoded data removed]",
      "text/plain": [
       "<Figure size 640x480 with 1 Axes>"
      ]
     },
     "metadata": {},
     "output_type": "display_data"
    },
    {
     "data": {
      "image/png": "[encoded data removed]",
      "text/plain": [
       "<Figure size 640x480 with 1 Axes>"
      ]
     },
     "metadata": {},
     "output_type": "display_data"
    }
   ],
   "source": [
    "# print(history.params)\n",
    "# print(history.history)\n",
    "acc = history.history['accuracy']\n",
    "val_acc = history.history['val_accuracy']\n",
    "loss = history.history['loss']\n",
    "val_loss = history.history['val_loss']\n",
    "epochs = range(1, len(acc) + 1)\n",
    "#Train and validation accuracy\n",
    "plt.plot(epochs, acc, 'b', label='Training accurarcy')\n",
    "plt.plot(epochs, val_acc, 'r', label='Validation accurarcy')\n",
    "plt.title('Training and Validation accurarcy')\n",
    "plt.legend()\n",
    "\n",
    "plt.figure()\n",
    "#Train and validation loss\n",
    "plt.plot(epochs, loss, 'b', label='Training loss')\n",
    "plt.plot(epochs, val_loss, 'r', label='Validation loss')\n",
    "plt.title('Training and Validation loss')\n",
    "plt.legend()\n",
    "plt.show()"
   ]
  },
  {
   "cell_type": "code",
   "execution_count": 39,
   "id": "bc2c3833",
   "metadata": {},
   "outputs": [
    {
     "name": "stdout",
     "output_type": "stream",
     "text": [
      "[INFO] Calculating model accuracy\n",
      "19/19 [==============================] - 17s 873ms/step - loss: 0.0736 - accuracy: 0.8433\n",
      "Test Accuracy: 84.33333039283752\n"
     ]
    }
   ],
   "source": [
    "print(\"[INFO] Calculating model accuracy\")\n",
    "scores = model.evaluate(x_test, y_test)\n",
    "print(f\"Test Accuracy: {scores[1]*100}\")"
   ]
  },
  {
   "cell_type": "code",
   "execution_count": 48,
   "id": "246a58d9",
   "metadata": {},
   "outputs": [],
   "source": [
    "model.save('myModel.h5')"
   ]
  },
  {
   "cell_type": "code",
   "execution_count": 49,
   "id": "84aab55a",
   "metadata": {},
   "outputs": [],
   "source": [
    "from keras.models import load_model"
   ]
  },
  {
   "cell_type": "code",
   "execution_count": 50,
   "id": "b739e61f",
   "metadata": {},
   "outputs": [],
   "source": [
    "loaded_model = load_model('myModel.h5')"
   ]
  },
  {
   "cell_type": "code",
   "execution_count": 57,
   "id": "607d1fe9",
   "metadata": {},
   "outputs": [
    {
     "name": "stdout",
     "output_type": "stream",
     "text": [
      "[[[0.547   0.573   0.4888 ]\n",
      "  [0.573   0.6     0.511  ]\n",
      "  [0.5776  0.6177  0.5244 ]\n",
      "  ...\n",
      "  [0.169   0.6665  0.48   ]\n",
      "  [0.1733  0.6846  0.507  ]\n",
      "  [0.1823  0.6934  0.5156 ]]\n",
      "\n",
      " [[0.6045  0.649   0.547  ]\n",
      "  [0.6045  0.662   0.547  ]\n",
      "  [0.609   0.68    0.542  ]\n",
      "  ...\n",
      "  [0.169   0.6665  0.48   ]\n",
      "  [0.1644  0.671   0.4934 ]\n",
      "  [0.1777  0.676   0.4978 ]]\n",
      "\n",
      " [[0.6133  0.676   0.569  ]\n",
      "  [0.5913  0.671   0.547  ]\n",
      "  [0.533   0.6357  0.4756 ]\n",
      "  ...\n",
      "  [0.16    0.671   0.48   ]\n",
      "  [0.1555  0.6665  0.4756 ]\n",
      "  [0.169   0.6665  0.48   ]]\n",
      "\n",
      " ...\n",
      "\n",
      " [[0.3022  0.7646  0.5645 ]\n",
      "  [0.3022  0.729   0.5513 ]\n",
      "  [0.3867  0.7954  0.6265 ]\n",
      "  ...\n",
      "  [0.1555  0.7646  0.6045 ]\n",
      "  [0.2222  0.769   0.6    ]\n",
      "  [0.2622  0.778   0.622  ]]\n",
      "\n",
      " [[0.311   0.742   0.5557 ]\n",
      "  [0.3289  0.729   0.5557 ]\n",
      "  [0.4443  0.791   0.6265 ]\n",
      "  ...\n",
      "  [0.1378  0.7734  0.6177 ]\n",
      "  [0.2089  0.7734  0.6177 ]\n",
      "  [0.2578  0.7734  0.6265 ]]\n",
      "\n",
      " [[0.3777  0.782   0.5913 ]\n",
      "  [0.3955  0.7466  0.582  ]\n",
      "  [0.5024  0.8047  0.662  ]\n",
      "  ...\n",
      "  [0.10223 0.769   0.6177 ]\n",
      "  [0.1733  0.769   0.6177 ]\n",
      "  [0.2311  0.778   0.6357 ]]]\n"
     ]
    }
   ],
   "source": [
    "image_dir=\"text/ctm.jpg\"\n",
    "\n",
    "im=convert_image_to_array(image_dir)\n",
    "# print(im)\n",
    "np_image_li = np.array(im, dtype=np.float16) / 225.0\n",
    "print(np_image_li)\n",
    "npp_image = np.expand_dims(np_image_li, axis=0)"
   ]
  },
  {
   "cell_type": "code",
   "execution_count": 58,
   "id": "e4297383",
   "metadata": {},
   "outputs": [
    {
     "name": "stdout",
     "output_type": "stream",
     "text": [
      "1/1 [==============================] - 0s 181ms/step\n",
      "[[5.8018889e-13 6.0858735e-13 1.3631253e-15 4.1433850e-14 5.2385568e-11\n",
      "  6.2994626e-10 3.3080278e-11 6.8325152e-13 2.9186881e-12 5.0201728e-15\n",
      "  3.0985693e-13 7.5911113e-14 2.3740240e-14 1.9040422e-13 1.0000000e+00]]\n"
     ]
    }
   ],
   "source": [
    "result=model.predict(npp_image)\n",
    "\n",
    "print(result)"
   ]
  },
  {
   "cell_type": "code",
   "execution_count": 59,
   "id": "f6fdf285",
   "metadata": {},
   "outputs": [
    {
     "name": "stdout",
     "output_type": "stream",
     "text": [
      "[0]\n",
      "[14]\n",
      "probability:1.0\n",
      "Tomato\n"
     ]
    }
   ],
   "source": [
    "itemindex = np.where(result==np.max(result))\n",
    "for i in itemindex:\n",
    "    print(i)\n",
    "print(\"probability:\"+str(np.max(result))+\"\\n\"+label_binarizer.classes_[itemindex[1][0]])"
   ]
  }
 ],
 "metadata": {
  "kernelspec": {
   "display_name": "Python 3 (ipykernel)",
   "language": "python",
   "name": "python3"
  },
  "language_info": {
   "codemirror_mode": {
    "name": "ipython",
    "version": 3
   },
   "file_extension": ".py",
   "mimetype": "text/x-python",
   "name": "python",
   "nbconvert_exporter": "python",
   "pygments_lexer": "ipython3",
   "version": "3.9.13"
  }
 },
 "nbformat": 4,
 "nbformat_minor": 5
}
